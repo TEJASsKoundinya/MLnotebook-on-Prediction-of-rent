{
 "cells": [
  {
   "cell_type": "markdown",
   "id": "dd5d065a",
   "metadata": {
    "papermill": {
     "duration": 0.010641,
     "end_time": "2022-09-18T11:10:13.336905",
     "exception": false,
     "start_time": "2022-09-18T11:10:13.326264",
     "status": "completed"
    },
    "tags": []
   },
   "source": [
    "## Goal is for the Prediction of Rent\n",
    "## Data understanding and visualizations "
   ]
  },
  {
   "cell_type": "code",
   "execution_count": 1,
   "id": "84357e3f",
   "metadata": {
    "execution": {
     "iopub.execute_input": "2022-09-18T11:10:13.353401Z",
     "iopub.status.busy": "2022-09-18T11:10:13.352934Z",
     "iopub.status.idle": "2022-09-18T11:10:13.365317Z",
     "shell.execute_reply": "2022-09-18T11:10:13.364536Z"
    },
    "papermill": {
     "duration": 0.023192,
     "end_time": "2022-09-18T11:10:13.367671",
     "exception": false,
     "start_time": "2022-09-18T11:10:13.344479",
     "status": "completed"
    },
    "tags": []
   },
   "outputs": [],
   "source": [
    "import pandas as pd\n",
    "import numpy as np\n",
    "import matplotlib.pyplot as plt\n",
    "import statistics"
   ]
  },
  {
   "cell_type": "code",
   "execution_count": 2,
   "id": "9acd89eb",
   "metadata": {
    "execution": {
     "iopub.execute_input": "2022-09-18T11:10:13.384625Z",
     "iopub.status.busy": "2022-09-18T11:10:13.384173Z",
     "iopub.status.idle": "2022-09-18T11:10:13.463491Z",
     "shell.execute_reply": "2022-09-18T11:10:13.462296Z"
    },
    "papermill": {
     "duration": 0.091095,
     "end_time": "2022-09-18T11:10:13.466144",
     "exception": false,
     "start_time": "2022-09-18T11:10:13.375049",
     "status": "completed"
    },
    "tags": []
   },
   "outputs": [
    {
     "data": {
      "text/html": [
       "<div>\n",
       "<style scoped>\n",
       "    .dataframe tbody tr th:only-of-type {\n",
       "        vertical-align: middle;\n",
       "    }\n",
       "\n",
       "    .dataframe tbody tr th {\n",
       "        vertical-align: top;\n",
       "    }\n",
       "\n",
       "    .dataframe thead th {\n",
       "        text-align: right;\n",
       "    }\n",
       "</style>\n",
       "<table border=\"1\" class=\"dataframe\">\n",
       "  <thead>\n",
       "    <tr style=\"text-align: right;\">\n",
       "      <th></th>\n",
       "      <th>Posted On</th>\n",
       "      <th>BHK</th>\n",
       "      <th>Rent</th>\n",
       "      <th>Size</th>\n",
       "      <th>Floor</th>\n",
       "      <th>Area Type</th>\n",
       "      <th>Area Locality</th>\n",
       "      <th>City</th>\n",
       "      <th>Furnishing Status</th>\n",
       "      <th>Tenant Preferred</th>\n",
       "      <th>Bathroom</th>\n",
       "      <th>Point of Contact</th>\n",
       "    </tr>\n",
       "  </thead>\n",
       "  <tbody>\n",
       "    <tr>\n",
       "      <th>0</th>\n",
       "      <td>2022-05-18</td>\n",
       "      <td>2</td>\n",
       "      <td>10000</td>\n",
       "      <td>1100</td>\n",
       "      <td>Ground out of 2</td>\n",
       "      <td>Super Area</td>\n",
       "      <td>Bandel</td>\n",
       "      <td>Kolkata</td>\n",
       "      <td>Unfurnished</td>\n",
       "      <td>Bachelors/Family</td>\n",
       "      <td>2</td>\n",
       "      <td>Contact Owner</td>\n",
       "    </tr>\n",
       "    <tr>\n",
       "      <th>1</th>\n",
       "      <td>2022-05-13</td>\n",
       "      <td>2</td>\n",
       "      <td>20000</td>\n",
       "      <td>800</td>\n",
       "      <td>1 out of 3</td>\n",
       "      <td>Super Area</td>\n",
       "      <td>Phool Bagan, Kankurgachi</td>\n",
       "      <td>Kolkata</td>\n",
       "      <td>Semi-Furnished</td>\n",
       "      <td>Bachelors/Family</td>\n",
       "      <td>1</td>\n",
       "      <td>Contact Owner</td>\n",
       "    </tr>\n",
       "    <tr>\n",
       "      <th>2</th>\n",
       "      <td>2022-05-16</td>\n",
       "      <td>2</td>\n",
       "      <td>17000</td>\n",
       "      <td>1000</td>\n",
       "      <td>1 out of 3</td>\n",
       "      <td>Super Area</td>\n",
       "      <td>Salt Lake City Sector 2</td>\n",
       "      <td>Kolkata</td>\n",
       "      <td>Semi-Furnished</td>\n",
       "      <td>Bachelors/Family</td>\n",
       "      <td>1</td>\n",
       "      <td>Contact Owner</td>\n",
       "    </tr>\n",
       "    <tr>\n",
       "      <th>3</th>\n",
       "      <td>2022-07-04</td>\n",
       "      <td>2</td>\n",
       "      <td>10000</td>\n",
       "      <td>800</td>\n",
       "      <td>1 out of 2</td>\n",
       "      <td>Super Area</td>\n",
       "      <td>Dumdum Park</td>\n",
       "      <td>Kolkata</td>\n",
       "      <td>Unfurnished</td>\n",
       "      <td>Bachelors/Family</td>\n",
       "      <td>1</td>\n",
       "      <td>Contact Owner</td>\n",
       "    </tr>\n",
       "    <tr>\n",
       "      <th>4</th>\n",
       "      <td>2022-05-09</td>\n",
       "      <td>2</td>\n",
       "      <td>7500</td>\n",
       "      <td>850</td>\n",
       "      <td>1 out of 2</td>\n",
       "      <td>Carpet Area</td>\n",
       "      <td>South Dum Dum</td>\n",
       "      <td>Kolkata</td>\n",
       "      <td>Unfurnished</td>\n",
       "      <td>Bachelors</td>\n",
       "      <td>1</td>\n",
       "      <td>Contact Owner</td>\n",
       "    </tr>\n",
       "    <tr>\n",
       "      <th>...</th>\n",
       "      <td>...</td>\n",
       "      <td>...</td>\n",
       "      <td>...</td>\n",
       "      <td>...</td>\n",
       "      <td>...</td>\n",
       "      <td>...</td>\n",
       "      <td>...</td>\n",
       "      <td>...</td>\n",
       "      <td>...</td>\n",
       "      <td>...</td>\n",
       "      <td>...</td>\n",
       "      <td>...</td>\n",
       "    </tr>\n",
       "    <tr>\n",
       "      <th>4741</th>\n",
       "      <td>2022-05-18</td>\n",
       "      <td>2</td>\n",
       "      <td>15000</td>\n",
       "      <td>1000</td>\n",
       "      <td>3 out of 5</td>\n",
       "      <td>Carpet Area</td>\n",
       "      <td>Bandam Kommu</td>\n",
       "      <td>Hyderabad</td>\n",
       "      <td>Semi-Furnished</td>\n",
       "      <td>Bachelors/Family</td>\n",
       "      <td>2</td>\n",
       "      <td>Contact Owner</td>\n",
       "    </tr>\n",
       "    <tr>\n",
       "      <th>4742</th>\n",
       "      <td>2022-05-15</td>\n",
       "      <td>3</td>\n",
       "      <td>29000</td>\n",
       "      <td>2000</td>\n",
       "      <td>1 out of 4</td>\n",
       "      <td>Super Area</td>\n",
       "      <td>Manikonda, Hyderabad</td>\n",
       "      <td>Hyderabad</td>\n",
       "      <td>Semi-Furnished</td>\n",
       "      <td>Bachelors/Family</td>\n",
       "      <td>3</td>\n",
       "      <td>Contact Owner</td>\n",
       "    </tr>\n",
       "    <tr>\n",
       "      <th>4743</th>\n",
       "      <td>2022-07-10</td>\n",
       "      <td>3</td>\n",
       "      <td>35000</td>\n",
       "      <td>1750</td>\n",
       "      <td>3 out of 5</td>\n",
       "      <td>Carpet Area</td>\n",
       "      <td>Himayath Nagar, NH 7</td>\n",
       "      <td>Hyderabad</td>\n",
       "      <td>Semi-Furnished</td>\n",
       "      <td>Bachelors/Family</td>\n",
       "      <td>3</td>\n",
       "      <td>Contact Agent</td>\n",
       "    </tr>\n",
       "    <tr>\n",
       "      <th>4744</th>\n",
       "      <td>2022-07-06</td>\n",
       "      <td>3</td>\n",
       "      <td>45000</td>\n",
       "      <td>1500</td>\n",
       "      <td>23 out of 34</td>\n",
       "      <td>Carpet Area</td>\n",
       "      <td>Gachibowli</td>\n",
       "      <td>Hyderabad</td>\n",
       "      <td>Semi-Furnished</td>\n",
       "      <td>Family</td>\n",
       "      <td>2</td>\n",
       "      <td>Contact Agent</td>\n",
       "    </tr>\n",
       "    <tr>\n",
       "      <th>4745</th>\n",
       "      <td>2022-05-04</td>\n",
       "      <td>2</td>\n",
       "      <td>15000</td>\n",
       "      <td>1000</td>\n",
       "      <td>4 out of 5</td>\n",
       "      <td>Carpet Area</td>\n",
       "      <td>Suchitra Circle</td>\n",
       "      <td>Hyderabad</td>\n",
       "      <td>Unfurnished</td>\n",
       "      <td>Bachelors</td>\n",
       "      <td>2</td>\n",
       "      <td>Contact Owner</td>\n",
       "    </tr>\n",
       "  </tbody>\n",
       "</table>\n",
       "<p>4746 rows × 12 columns</p>\n",
       "</div>"
      ],
      "text/plain": [
       "       Posted On  BHK   Rent  Size            Floor    Area Type  \\\n",
       "0     2022-05-18    2  10000  1100  Ground out of 2   Super Area   \n",
       "1     2022-05-13    2  20000   800       1 out of 3   Super Area   \n",
       "2     2022-05-16    2  17000  1000       1 out of 3   Super Area   \n",
       "3     2022-07-04    2  10000   800       1 out of 2   Super Area   \n",
       "4     2022-05-09    2   7500   850       1 out of 2  Carpet Area   \n",
       "...          ...  ...    ...   ...              ...          ...   \n",
       "4741  2022-05-18    2  15000  1000       3 out of 5  Carpet Area   \n",
       "4742  2022-05-15    3  29000  2000       1 out of 4   Super Area   \n",
       "4743  2022-07-10    3  35000  1750       3 out of 5  Carpet Area   \n",
       "4744  2022-07-06    3  45000  1500     23 out of 34  Carpet Area   \n",
       "4745  2022-05-04    2  15000  1000       4 out of 5  Carpet Area   \n",
       "\n",
       "                 Area Locality       City Furnishing Status  Tenant Preferred  \\\n",
       "0                       Bandel    Kolkata       Unfurnished  Bachelors/Family   \n",
       "1     Phool Bagan, Kankurgachi    Kolkata    Semi-Furnished  Bachelors/Family   \n",
       "2      Salt Lake City Sector 2    Kolkata    Semi-Furnished  Bachelors/Family   \n",
       "3                  Dumdum Park    Kolkata       Unfurnished  Bachelors/Family   \n",
       "4                South Dum Dum    Kolkata       Unfurnished         Bachelors   \n",
       "...                        ...        ...               ...               ...   \n",
       "4741              Bandam Kommu  Hyderabad    Semi-Furnished  Bachelors/Family   \n",
       "4742      Manikonda, Hyderabad  Hyderabad    Semi-Furnished  Bachelors/Family   \n",
       "4743      Himayath Nagar, NH 7  Hyderabad    Semi-Furnished  Bachelors/Family   \n",
       "4744                Gachibowli  Hyderabad    Semi-Furnished            Family   \n",
       "4745           Suchitra Circle  Hyderabad       Unfurnished         Bachelors   \n",
       "\n",
       "      Bathroom Point of Contact  \n",
       "0            2    Contact Owner  \n",
       "1            1    Contact Owner  \n",
       "2            1    Contact Owner  \n",
       "3            1    Contact Owner  \n",
       "4            1    Contact Owner  \n",
       "...        ...              ...  \n",
       "4741         2    Contact Owner  \n",
       "4742         3    Contact Owner  \n",
       "4743         3    Contact Agent  \n",
       "4744         2    Contact Agent  \n",
       "4745         2    Contact Owner  \n",
       "\n",
       "[4746 rows x 12 columns]"
      ]
     },
     "execution_count": 2,
     "metadata": {},
     "output_type": "execute_result"
    }
   ],
   "source": [
    "Data = pd.read_csv(\"../input/house-rent-prediction-dataset/House_Rent_Dataset.csv\")\n",
    "Data= Data.dropna()\n",
    "Data"
   ]
  },
  {
   "cell_type": "code",
   "execution_count": 3,
   "id": "fb5dbf4d",
   "metadata": {
    "execution": {
     "iopub.execute_input": "2022-09-18T11:10:13.482709Z",
     "iopub.status.busy": "2022-09-18T11:10:13.482285Z",
     "iopub.status.idle": "2022-09-18T11:10:13.764588Z",
     "shell.execute_reply": "2022-09-18T11:10:13.763241Z"
    },
    "papermill": {
     "duration": 0.293645,
     "end_time": "2022-09-18T11:10:13.767139",
     "exception": false,
     "start_time": "2022-09-18T11:10:13.473494",
     "status": "completed"
    },
    "tags": []
   },
   "outputs": [
    {
     "data": {
      "text/plain": [
       "Text(0, 0.5, 'Frequency')"
      ]
     },
     "execution_count": 3,
     "metadata": {},
     "output_type": "execute_result"
    },
    {
     "data": {
      "image/png": "[encoded data removed]",
      "text/plain": [
       "<Figure size 576x576 with 1 Axes>"
      ]
     },
     "metadata": {
      "needs_background": "light"
     },
     "output_type": "display_data"
    }
   ],
   "source": [
    "ax = Data['Point of Contact'].value_counts().plot(kind='bar',\n",
    "                                    figsize=(8,8),\n",
    "                                    title=\"Most contributing contact\")\n",
    "ax.set_xlabel(\"Point of Contact\")\n",
    "ax.set_ylabel(\"Frequency\")"
   ]
  },
  {
   "cell_type": "code",
   "execution_count": 4,
   "id": "55303241",
   "metadata": {
    "execution": {
     "iopub.execute_input": "2022-09-18T11:10:13.788954Z",
     "iopub.status.busy": "2022-09-18T11:10:13.788512Z",
     "iopub.status.idle": "2022-09-18T11:10:14.007313Z",
     "shell.execute_reply": "2022-09-18T11:10:14.006069Z"
    },
    "papermill": {
     "duration": 0.230232,
     "end_time": "2022-09-18T11:10:14.009587",
     "exception": false,
     "start_time": "2022-09-18T11:10:13.779355",
     "status": "completed"
    },
    "tags": []
   },
   "outputs": [
    {
     "data": {
      "text/plain": [
       "Text(0, 0.5, 'Frequency')"
      ]
     },
     "execution_count": 4,
     "metadata": {},
     "output_type": "execute_result"
    },
    {
     "data": {
      "image/png": "[encoded data removed]",
      "text/plain": [
       "<Figure size 576x576 with 1 Axes>"
      ]
     },
     "metadata": {
      "needs_background": "light"
     },
     "output_type": "display_data"
    }
   ],
   "source": [
    "ax = Data['Furnishing Status'].value_counts().plot(kind='bar',\n",
    "                                    figsize=(8,8),\n",
    "                                    title=\"Count on furnishing status\")\n",
    "ax.set_xlabel(\"Furnishing Status\")\n",
    "ax.set_ylabel(\"Frequency\")"
   ]
  },
  {
   "cell_type": "code",
   "execution_count": 5,
   "id": "dd9b6f8c",
   "metadata": {
    "execution": {
     "iopub.execute_input": "2022-09-18T11:10:14.027364Z",
     "iopub.status.busy": "2022-09-18T11:10:14.026988Z",
     "iopub.status.idle": "2022-09-18T11:10:14.270513Z",
     "shell.execute_reply": "2022-09-18T11:10:14.269361Z"
    },
    "papermill": {
     "duration": 0.255256,
     "end_time": "2022-09-18T11:10:14.272876",
     "exception": false,
     "start_time": "2022-09-18T11:10:14.017620",
     "status": "completed"
    },
    "tags": []
   },
   "outputs": [
    {
     "data": {
      "text/plain": [
       "Text(0, 0.5, 'Frequency')"
      ]
     },
     "execution_count": 5,
     "metadata": {},
     "output_type": "execute_result"
    },
    {
     "data": {
      "image/png": "[encoded data removed]",
      "text/plain": [
       "<Figure size 576x576 with 1 Axes>"
      ]
     },
     "metadata": {
      "needs_background": "light"
     },
     "output_type": "display_data"
    }
   ],
   "source": [
    "ax = Data['City'].value_counts().plot(kind='bar',\n",
    "                                    figsize=(8,8),\n",
    "                                    title=\"Count on furnishing status\")\n",
    "ax.set_xlabel(\"Furnishing Status\")\n",
    "ax.set_ylabel(\"Frequency\")"
   ]
  },
  {
   "cell_type": "code",
   "execution_count": 6,
   "id": "d44870ac",
   "metadata": {
    "execution": {
     "iopub.execute_input": "2022-09-18T11:10:14.291897Z",
     "iopub.status.busy": "2022-09-18T11:10:14.291229Z",
     "iopub.status.idle": "2022-09-18T11:10:14.520055Z",
     "shell.execute_reply": "2022-09-18T11:10:14.518720Z"
    },
    "papermill": {
     "duration": 0.241302,
     "end_time": "2022-09-18T11:10:14.522710",
     "exception": false,
     "start_time": "2022-09-18T11:10:14.281408",
     "status": "completed"
    },
    "tags": []
   },
   "outputs": [
    {
     "data": {
      "text/plain": [
       "Text(0, 0.5, 'Frequency')"
      ]
     },
     "execution_count": 6,
     "metadata": {},
     "output_type": "execute_result"
    },
    {
     "data": {
      "image/png": "[encoded data removed]",
      "text/plain": [
       "<Figure size 576x576 with 1 Axes>"
      ]
     },
     "metadata": {
      "needs_background": "light"
     },
     "output_type": "display_data"
    }
   ],
   "source": [
    "ax = Data['Area Type'].value_counts().plot(kind='bar',\n",
    "                                    figsize=(8,8),\n",
    "                                    title=\"Count on furnishing status\")\n",
    "ax.set_xlabel(\"Furnishing Status\")\n",
    "ax.set_ylabel(\"Frequency\")"
   ]
  },
  {
   "cell_type": "code",
   "execution_count": 7,
   "id": "b4de2041",
   "metadata": {
    "execution": {
     "iopub.execute_input": "2022-09-18T11:10:14.553498Z",
     "iopub.status.busy": "2022-09-18T11:10:14.552237Z",
     "iopub.status.idle": "2022-09-18T11:10:14.561841Z",
     "shell.execute_reply": "2022-09-18T11:10:14.560464Z"
    },
    "papermill": {
     "duration": 0.032212,
     "end_time": "2022-09-18T11:10:14.568812",
     "exception": false,
     "start_time": "2022-09-18T11:10:14.536600",
     "status": "completed"
    },
    "tags": []
   },
   "outputs": [
    {
     "name": "stdout",
     "output_type": "stream",
     "text": [
      "0          Unfurnished\n",
      "1       Semi-Furnished\n",
      "2       Semi-Furnished\n",
      "3          Unfurnished\n",
      "4          Unfurnished\n",
      "             ...      \n",
      "4741    Semi-Furnished\n",
      "4742    Semi-Furnished\n",
      "4743    Semi-Furnished\n",
      "4744    Semi-Furnished\n",
      "4745       Unfurnished\n",
      "Name: Furnishing Status, Length: 4746, dtype: object\n"
     ]
    }
   ],
   "source": [
    "#reference \n",
    "x=Data['Furnishing Status']\n",
    "print(x)\n"
   ]
  },
  {
   "cell_type": "markdown",
   "id": "4731b433",
   "metadata": {
    "papermill": {
     "duration": 0.008805,
     "end_time": "2022-09-18T11:10:14.590879",
     "exception": false,
     "start_time": "2022-09-18T11:10:14.582074",
     "status": "completed"
    },
    "tags": []
   },
   "source": [
    "> **Converting qualitative data to quantitive data**"
   ]
  },
  {
   "cell_type": "code",
   "execution_count": 8,
   "id": "6b1f85d9",
   "metadata": {
    "execution": {
     "iopub.execute_input": "2022-09-18T11:10:14.611327Z",
     "iopub.status.busy": "2022-09-18T11:10:14.610247Z",
     "iopub.status.idle": "2022-09-18T11:10:14.650739Z",
     "shell.execute_reply": "2022-09-18T11:10:14.649606Z"
    },
    "papermill": {
     "duration": 0.053311,
     "end_time": "2022-09-18T11:10:14.653174",
     "exception": false,
     "start_time": "2022-09-18T11:10:14.599863",
     "status": "completed"
    },
    "tags": []
   },
   "outputs": [
    {
     "data": {
      "text/html": [
       "<div>\n",
       "<style scoped>\n",
       "    .dataframe tbody tr th:only-of-type {\n",
       "        vertical-align: middle;\n",
       "    }\n",
       "\n",
       "    .dataframe tbody tr th {\n",
       "        vertical-align: top;\n",
       "    }\n",
       "\n",
       "    .dataframe thead th {\n",
       "        text-align: right;\n",
       "    }\n",
       "</style>\n",
       "<table border=\"1\" class=\"dataframe\">\n",
       "  <thead>\n",
       "    <tr style=\"text-align: right;\">\n",
       "      <th></th>\n",
       "      <th>BHK</th>\n",
       "      <th>Rent</th>\n",
       "      <th>Size</th>\n",
       "      <th>Area Type</th>\n",
       "      <th>City</th>\n",
       "      <th>Furnishing Status</th>\n",
       "      <th>Bathroom</th>\n",
       "      <th>Point of Contact</th>\n",
       "    </tr>\n",
       "  </thead>\n",
       "  <tbody>\n",
       "    <tr>\n",
       "      <th>4076</th>\n",
       "      <td>3</td>\n",
       "      <td>1200</td>\n",
       "      <td>2100</td>\n",
       "      <td>1</td>\n",
       "      <td>5</td>\n",
       "      <td>3</td>\n",
       "      <td>3</td>\n",
       "      <td>1</td>\n",
       "    </tr>\n",
       "    <tr>\n",
       "      <th>285</th>\n",
       "      <td>1</td>\n",
       "      <td>1500</td>\n",
       "      <td>200</td>\n",
       "      <td>2</td>\n",
       "      <td>1</td>\n",
       "      <td>2</td>\n",
       "      <td>1</td>\n",
       "      <td>1</td>\n",
       "    </tr>\n",
       "    <tr>\n",
       "      <th>471</th>\n",
       "      <td>1</td>\n",
       "      <td>1800</td>\n",
       "      <td>500</td>\n",
       "      <td>2</td>\n",
       "      <td>1</td>\n",
       "      <td>2</td>\n",
       "      <td>1</td>\n",
       "      <td>1</td>\n",
       "    </tr>\n",
       "    <tr>\n",
       "      <th>2475</th>\n",
       "      <td>2</td>\n",
       "      <td>2000</td>\n",
       "      <td>60</td>\n",
       "      <td>2</td>\n",
       "      <td>2</td>\n",
       "      <td>1</td>\n",
       "      <td>1</td>\n",
       "      <td>1</td>\n",
       "    </tr>\n",
       "    <tr>\n",
       "      <th>146</th>\n",
       "      <td>2</td>\n",
       "      <td>2200</td>\n",
       "      <td>550</td>\n",
       "      <td>2</td>\n",
       "      <td>1</td>\n",
       "      <td>3</td>\n",
       "      <td>1</td>\n",
       "      <td>1</td>\n",
       "    </tr>\n",
       "    <tr>\n",
       "      <th>...</th>\n",
       "      <td>...</td>\n",
       "      <td>...</td>\n",
       "      <td>...</td>\n",
       "      <td>...</td>\n",
       "      <td>...</td>\n",
       "      <td>...</td>\n",
       "      <td>...</td>\n",
       "      <td>...</td>\n",
       "    </tr>\n",
       "    <tr>\n",
       "      <th>1459</th>\n",
       "      <td>4</td>\n",
       "      <td>700000</td>\n",
       "      <td>3200</td>\n",
       "      <td>1</td>\n",
       "      <td>3</td>\n",
       "      <td>3</td>\n",
       "      <td>4</td>\n",
       "      <td>2</td>\n",
       "    </tr>\n",
       "    <tr>\n",
       "      <th>1329</th>\n",
       "      <td>4</td>\n",
       "      <td>850000</td>\n",
       "      <td>3200</td>\n",
       "      <td>1</td>\n",
       "      <td>3</td>\n",
       "      <td>3</td>\n",
       "      <td>4</td>\n",
       "      <td>2</td>\n",
       "    </tr>\n",
       "    <tr>\n",
       "      <th>827</th>\n",
       "      <td>4</td>\n",
       "      <td>1000000</td>\n",
       "      <td>3064</td>\n",
       "      <td>1</td>\n",
       "      <td>3</td>\n",
       "      <td>2</td>\n",
       "      <td>4</td>\n",
       "      <td>2</td>\n",
       "    </tr>\n",
       "    <tr>\n",
       "      <th>1001</th>\n",
       "      <td>4</td>\n",
       "      <td>1200000</td>\n",
       "      <td>5000</td>\n",
       "      <td>1</td>\n",
       "      <td>3</td>\n",
       "      <td>2</td>\n",
       "      <td>4</td>\n",
       "      <td>2</td>\n",
       "    </tr>\n",
       "    <tr>\n",
       "      <th>1837</th>\n",
       "      <td>3</td>\n",
       "      <td>3500000</td>\n",
       "      <td>2500</td>\n",
       "      <td>1</td>\n",
       "      <td>4</td>\n",
       "      <td>2</td>\n",
       "      <td>3</td>\n",
       "      <td>2</td>\n",
       "    </tr>\n",
       "  </tbody>\n",
       "</table>\n",
       "<p>4746 rows × 8 columns</p>\n",
       "</div>"
      ],
      "text/plain": [
       "      BHK     Rent  Size  Area Type  City  Furnishing Status  Bathroom  \\\n",
       "4076    3     1200  2100          1     5                  3         3   \n",
       "285     1     1500   200          2     1                  2         1   \n",
       "471     1     1800   500          2     1                  2         1   \n",
       "2475    2     2000    60          2     2                  1         1   \n",
       "146     2     2200   550          2     1                  3         1   \n",
       "...   ...      ...   ...        ...   ...                ...       ...   \n",
       "1459    4   700000  3200          1     3                  3         4   \n",
       "1329    4   850000  3200          1     3                  3         4   \n",
       "827     4  1000000  3064          1     3                  2         4   \n",
       "1001    4  1200000  5000          1     3                  2         4   \n",
       "1837    3  3500000  2500          1     4                  2         3   \n",
       "\n",
       "      Point of Contact  \n",
       "4076                 1  \n",
       "285                  1  \n",
       "471                  1  \n",
       "2475                 1  \n",
       "146                  1  \n",
       "...                ...  \n",
       "1459                 2  \n",
       "1329                 2  \n",
       "827                  2  \n",
       "1001                 2  \n",
       "1837                 2  \n",
       "\n",
       "[4746 rows x 8 columns]"
      ]
     },
     "execution_count": 8,
     "metadata": {},
     "output_type": "execute_result"
    }
   ],
   "source": [
    "Data.sort_values(by=['Rent'], inplace=True)\n",
    "Data['Area Type'] = Data['Area Type'].replace('Carpet Area',1)\n",
    "Data['Area Type'] = Data['Area Type'].replace('Super Area',2)\n",
    "Data['Area Type']=Data['Area Type'].replace('Built Area',3)\n",
    "Data['City'] = Data['City'].replace('Kolkata',1)\n",
    "Data['City'] = Data['City'].replace('Delhi',2)\n",
    "Data['City'] = Data['City'].replace('Mumbai',3)\n",
    "Data['City'] = Data['City'].replace('Bangalore',4)\n",
    "Data['City'] = Data['City'].replace('Hyderabad',5)\n",
    "Data['City'] = Data['City'].replace('Chennai',6)\n",
    "\n",
    "Data['Furnishing Status'] = Data['Furnishing Status'].replace('Unfurnished',1)\n",
    "Data['Furnishing Status'] = Data['Furnishing Status'].replace('Semi-Furnished',2)\n",
    "Data['Furnishing Status'] = Data['Furnishing Status'].replace('Furnished',3)\n",
    "\n",
    "Data['Point of Contact'] = Data['Point of Contact'].replace('Contact Owner',1)\n",
    "Data['Point of Contact'] = Data['Point of Contact'].replace('Contact Agent',2)\n",
    "Data['Point of Contact'] = Data['Point of Contact'].replace('Contact Builder',3)\n",
    "Data.drop(Data.columns[[0, 4, 6,9]], axis=1, inplace=True)\n",
    "Data"
   ]
  },
  {
   "cell_type": "code",
   "execution_count": 9,
   "id": "2517835e",
   "metadata": {
    "execution": {
     "iopub.execute_input": "2022-09-18T11:10:14.674091Z",
     "iopub.status.busy": "2022-09-18T11:10:14.673688Z",
     "iopub.status.idle": "2022-09-18T11:10:14.681401Z",
     "shell.execute_reply": "2022-09-18T11:10:14.680302Z"
    },
    "papermill": {
     "duration": 0.020942,
     "end_time": "2022-09-18T11:10:14.683763",
     "exception": false,
     "start_time": "2022-09-18T11:10:14.662821",
     "status": "completed"
    },
    "tags": []
   },
   "outputs": [
    {
     "data": {
      "text/plain": [
       "array([   1200,    1500,    1800, ..., 1000000, 1200000, 3500000])"
      ]
     },
     "execution_count": 9,
     "metadata": {},
     "output_type": "execute_result"
    }
   ],
   "source": [
    "y = Data.iloc[:, -7].values\n",
    "y"
   ]
  },
  {
   "cell_type": "markdown",
   "id": "22e5b455",
   "metadata": {
    "papermill": {
     "duration": 0.008934,
     "end_time": "2022-09-18T11:10:14.702419",
     "exception": false,
     "start_time": "2022-09-18T11:10:14.693485",
     "status": "completed"
    },
    "tags": []
   },
   "source": [
    "**Taking rent as the test our objective for prediction **"
   ]
  },
  {
   "cell_type": "code",
   "execution_count": 10,
   "id": "fe4ba0e4",
   "metadata": {
    "execution": {
     "iopub.execute_input": "2022-09-18T11:10:14.722583Z",
     "iopub.status.busy": "2022-09-18T11:10:14.722200Z",
     "iopub.status.idle": "2022-09-18T11:10:14.736795Z",
     "shell.execute_reply": "2022-09-18T11:10:14.735947Z"
    },
    "papermill": {
     "duration": 0.027308,
     "end_time": "2022-09-18T11:10:14.739054",
     "exception": false,
     "start_time": "2022-09-18T11:10:14.711746",
     "status": "completed"
    },
    "tags": []
   },
   "outputs": [
    {
     "data": {
      "text/html": [
       "<div>\n",
       "<style scoped>\n",
       "    .dataframe tbody tr th:only-of-type {\n",
       "        vertical-align: middle;\n",
       "    }\n",
       "\n",
       "    .dataframe tbody tr th {\n",
       "        vertical-align: top;\n",
       "    }\n",
       "\n",
       "    .dataframe thead th {\n",
       "        text-align: right;\n",
       "    }\n",
       "</style>\n",
       "<table border=\"1\" class=\"dataframe\">\n",
       "  <thead>\n",
       "    <tr style=\"text-align: right;\">\n",
       "      <th></th>\n",
       "      <th>BHK</th>\n",
       "      <th>Size</th>\n",
       "      <th>Area Type</th>\n",
       "      <th>City</th>\n",
       "      <th>Furnishing Status</th>\n",
       "      <th>Bathroom</th>\n",
       "      <th>Point of Contact</th>\n",
       "    </tr>\n",
       "  </thead>\n",
       "  <tbody>\n",
       "    <tr>\n",
       "      <th>4076</th>\n",
       "      <td>3</td>\n",
       "      <td>2100</td>\n",
       "      <td>1</td>\n",
       "      <td>5</td>\n",
       "      <td>3</td>\n",
       "      <td>3</td>\n",
       "      <td>1</td>\n",
       "    </tr>\n",
       "    <tr>\n",
       "      <th>285</th>\n",
       "      <td>1</td>\n",
       "      <td>200</td>\n",
       "      <td>2</td>\n",
       "      <td>1</td>\n",
       "      <td>2</td>\n",
       "      <td>1</td>\n",
       "      <td>1</td>\n",
       "    </tr>\n",
       "    <tr>\n",
       "      <th>471</th>\n",
       "      <td>1</td>\n",
       "      <td>500</td>\n",
       "      <td>2</td>\n",
       "      <td>1</td>\n",
       "      <td>2</td>\n",
       "      <td>1</td>\n",
       "      <td>1</td>\n",
       "    </tr>\n",
       "    <tr>\n",
       "      <th>2475</th>\n",
       "      <td>2</td>\n",
       "      <td>60</td>\n",
       "      <td>2</td>\n",
       "      <td>2</td>\n",
       "      <td>1</td>\n",
       "      <td>1</td>\n",
       "      <td>1</td>\n",
       "    </tr>\n",
       "    <tr>\n",
       "      <th>146</th>\n",
       "      <td>2</td>\n",
       "      <td>550</td>\n",
       "      <td>2</td>\n",
       "      <td>1</td>\n",
       "      <td>3</td>\n",
       "      <td>1</td>\n",
       "      <td>1</td>\n",
       "    </tr>\n",
       "    <tr>\n",
       "      <th>...</th>\n",
       "      <td>...</td>\n",
       "      <td>...</td>\n",
       "      <td>...</td>\n",
       "      <td>...</td>\n",
       "      <td>...</td>\n",
       "      <td>...</td>\n",
       "      <td>...</td>\n",
       "    </tr>\n",
       "    <tr>\n",
       "      <th>1459</th>\n",
       "      <td>4</td>\n",
       "      <td>3200</td>\n",
       "      <td>1</td>\n",
       "      <td>3</td>\n",
       "      <td>3</td>\n",
       "      <td>4</td>\n",
       "      <td>2</td>\n",
       "    </tr>\n",
       "    <tr>\n",
       "      <th>1329</th>\n",
       "      <td>4</td>\n",
       "      <td>3200</td>\n",
       "      <td>1</td>\n",
       "      <td>3</td>\n",
       "      <td>3</td>\n",
       "      <td>4</td>\n",
       "      <td>2</td>\n",
       "    </tr>\n",
       "    <tr>\n",
       "      <th>827</th>\n",
       "      <td>4</td>\n",
       "      <td>3064</td>\n",
       "      <td>1</td>\n",
       "      <td>3</td>\n",
       "      <td>2</td>\n",
       "      <td>4</td>\n",
       "      <td>2</td>\n",
       "    </tr>\n",
       "    <tr>\n",
       "      <th>1001</th>\n",
       "      <td>4</td>\n",
       "      <td>5000</td>\n",
       "      <td>1</td>\n",
       "      <td>3</td>\n",
       "      <td>2</td>\n",
       "      <td>4</td>\n",
       "      <td>2</td>\n",
       "    </tr>\n",
       "    <tr>\n",
       "      <th>1837</th>\n",
       "      <td>3</td>\n",
       "      <td>2500</td>\n",
       "      <td>1</td>\n",
       "      <td>4</td>\n",
       "      <td>2</td>\n",
       "      <td>3</td>\n",
       "      <td>2</td>\n",
       "    </tr>\n",
       "  </tbody>\n",
       "</table>\n",
       "<p>4746 rows × 7 columns</p>\n",
       "</div>"
      ],
      "text/plain": [
       "      BHK  Size  Area Type  City  Furnishing Status  Bathroom  \\\n",
       "4076    3  2100          1     5                  3         3   \n",
       "285     1   200          2     1                  2         1   \n",
       "471     1   500          2     1                  2         1   \n",
       "2475    2    60          2     2                  1         1   \n",
       "146     2   550          2     1                  3         1   \n",
       "...   ...   ...        ...   ...                ...       ...   \n",
       "1459    4  3200          1     3                  3         4   \n",
       "1329    4  3200          1     3                  3         4   \n",
       "827     4  3064          1     3                  2         4   \n",
       "1001    4  5000          1     3                  2         4   \n",
       "1837    3  2500          1     4                  2         3   \n",
       "\n",
       "      Point of Contact  \n",
       "4076                 1  \n",
       "285                  1  \n",
       "471                  1  \n",
       "2475                 1  \n",
       "146                  1  \n",
       "...                ...  \n",
       "1459                 2  \n",
       "1329                 2  \n",
       "827                  2  \n",
       "1001                 2  \n",
       "1837                 2  \n",
       "\n",
       "[4746 rows x 7 columns]"
      ]
     },
     "execution_count": 10,
     "metadata": {},
     "output_type": "execute_result"
    }
   ],
   "source": [
    "x = Data.drop(['Rent'], axis=1)\n",
    "x"
   ]
  },
  {
   "cell_type": "code",
   "execution_count": 11,
   "id": "a412c7e3",
   "metadata": {
    "execution": {
     "iopub.execute_input": "2022-09-18T11:10:14.760545Z",
     "iopub.status.busy": "2022-09-18T11:10:14.760139Z",
     "iopub.status.idle": "2022-09-18T11:10:15.841446Z",
     "shell.execute_reply": "2022-09-18T11:10:15.840172Z"
    },
    "papermill": {
     "duration": 1.095536,
     "end_time": "2022-09-18T11:10:15.844397",
     "exception": false,
     "start_time": "2022-09-18T11:10:14.748861",
     "status": "completed"
    },
    "tags": []
   },
   "outputs": [],
   "source": [
    "from sklearn.model_selection import train_test_split\n",
    "x_train, x_test, y_train, y_test = train_test_split(x, y, test_size = 0.15, random_state = 0)"
   ]
  },
  {
   "cell_type": "markdown",
   "id": "bf9e72c5",
   "metadata": {
    "papermill": {
     "duration": 0.009488,
     "end_time": "2022-09-18T11:10:15.864270",
     "exception": false,
     "start_time": "2022-09-18T11:10:15.854782",
     "status": "completed"
    },
    "tags": []
   },
   "source": [
    "## Decision Tree approach"
   ]
  },
  {
   "cell_type": "code",
   "execution_count": 12,
   "id": "b7214763",
   "metadata": {
    "execution": {
     "iopub.execute_input": "2022-09-18T11:10:15.885823Z",
     "iopub.status.busy": "2022-09-18T11:10:15.885115Z",
     "iopub.status.idle": "2022-09-18T11:10:16.068109Z",
     "shell.execute_reply": "2022-09-18T11:10:16.066737Z"
    },
    "papermill": {
     "duration": 0.196836,
     "end_time": "2022-09-18T11:10:16.070840",
     "exception": false,
     "start_time": "2022-09-18T11:10:15.874004",
     "status": "completed"
    },
    "tags": []
   },
   "outputs": [
    {
     "data": {
      "text/plain": [
       "DecisionTreeRegressor(random_state=1)"
      ]
     },
     "execution_count": 12,
     "metadata": {},
     "output_type": "execute_result"
    }
   ],
   "source": [
    "from sklearn.tree import DecisionTreeRegressor \n",
    "modelDT = DecisionTreeRegressor(random_state = 1) \n",
    "modelDT.fit(x_train, y_train)"
   ]
  },
  {
   "cell_type": "code",
   "execution_count": 13,
   "id": "58fe1db5",
   "metadata": {
    "execution": {
     "iopub.execute_input": "2022-09-18T11:10:16.093001Z",
     "iopub.status.busy": "2022-09-18T11:10:16.092574Z",
     "iopub.status.idle": "2022-09-18T11:10:16.102517Z",
     "shell.execute_reply": "2022-09-18T11:10:16.101560Z"
    },
    "papermill": {
     "duration": 0.024368,
     "end_time": "2022-09-18T11:10:16.104944",
     "exception": false,
     "start_time": "2022-09-18T11:10:16.080576",
     "status": "completed"
    },
    "tags": []
   },
   "outputs": [
    {
     "data": {
      "text/plain": [
       "0.6608149208050331"
      ]
     },
     "execution_count": 13,
     "metadata": {},
     "output_type": "execute_result"
    }
   ],
   "source": [
    "modelDT.score(x_test, y_test)"
   ]
  },
  {
   "cell_type": "code",
   "execution_count": 14,
   "id": "976048e9",
   "metadata": {
    "execution": {
     "iopub.execute_input": "2022-09-18T11:10:16.126319Z",
     "iopub.status.busy": "2022-09-18T11:10:16.125948Z",
     "iopub.status.idle": "2022-09-18T11:10:16.140728Z",
     "shell.execute_reply": "2022-09-18T11:10:16.139959Z"
    },
    "papermill": {
     "duration": 0.028157,
     "end_time": "2022-09-18T11:10:16.142781",
     "exception": false,
     "start_time": "2022-09-18T11:10:16.114624",
     "status": "completed"
    },
    "tags": []
   },
   "outputs": [
    {
     "data": {
      "text/html": [
       "<div>\n",
       "<style scoped>\n",
       "    .dataframe tbody tr th:only-of-type {\n",
       "        vertical-align: middle;\n",
       "    }\n",
       "\n",
       "    .dataframe tbody tr th {\n",
       "        vertical-align: top;\n",
       "    }\n",
       "\n",
       "    .dataframe thead th {\n",
       "        text-align: right;\n",
       "    }\n",
       "</style>\n",
       "<table border=\"1\" class=\"dataframe\">\n",
       "  <thead>\n",
       "    <tr style=\"text-align: right;\">\n",
       "      <th></th>\n",
       "      <th>Prediction of rent</th>\n",
       "      <th>Actual Rent</th>\n",
       "    </tr>\n",
       "  </thead>\n",
       "  <tbody>\n",
       "    <tr>\n",
       "      <th>0</th>\n",
       "      <td>10000.0</td>\n",
       "      <td>10500</td>\n",
       "    </tr>\n",
       "    <tr>\n",
       "      <th>1</th>\n",
       "      <td>50000.0</td>\n",
       "      <td>80000</td>\n",
       "    </tr>\n",
       "    <tr>\n",
       "      <th>2</th>\n",
       "      <td>120000.0</td>\n",
       "      <td>120000</td>\n",
       "    </tr>\n",
       "    <tr>\n",
       "      <th>3</th>\n",
       "      <td>25000.0</td>\n",
       "      <td>17000</td>\n",
       "    </tr>\n",
       "    <tr>\n",
       "      <th>4</th>\n",
       "      <td>23750.0</td>\n",
       "      <td>45000</td>\n",
       "    </tr>\n",
       "    <tr>\n",
       "      <th>...</th>\n",
       "      <td>...</td>\n",
       "      <td>...</td>\n",
       "    </tr>\n",
       "    <tr>\n",
       "      <th>707</th>\n",
       "      <td>85000.0</td>\n",
       "      <td>65000</td>\n",
       "    </tr>\n",
       "    <tr>\n",
       "      <th>708</th>\n",
       "      <td>13000.0</td>\n",
       "      <td>11000</td>\n",
       "    </tr>\n",
       "    <tr>\n",
       "      <th>709</th>\n",
       "      <td>13000.0</td>\n",
       "      <td>11000</td>\n",
       "    </tr>\n",
       "    <tr>\n",
       "      <th>710</th>\n",
       "      <td>6800.0</td>\n",
       "      <td>8000</td>\n",
       "    </tr>\n",
       "    <tr>\n",
       "      <th>711</th>\n",
       "      <td>17000.0</td>\n",
       "      <td>21000</td>\n",
       "    </tr>\n",
       "  </tbody>\n",
       "</table>\n",
       "<p>712 rows × 2 columns</p>\n",
       "</div>"
      ],
      "text/plain": [
       "     Prediction of rent  Actual Rent\n",
       "0               10000.0        10500\n",
       "1               50000.0        80000\n",
       "2              120000.0       120000\n",
       "3               25000.0        17000\n",
       "4               23750.0        45000\n",
       "..                  ...          ...\n",
       "707             85000.0        65000\n",
       "708             13000.0        11000\n",
       "709             13000.0        11000\n",
       "710              6800.0         8000\n",
       "711             17000.0        21000\n",
       "\n",
       "[712 rows x 2 columns]"
      ]
     },
     "execution_count": 14,
     "metadata": {},
     "output_type": "execute_result"
    }
   ],
   "source": [
    "y_pred = modelDT.predict(x_test)\n",
    "pd.DataFrame(data={'Prediction of rent': y_pred.round(), 'Actual Rent': y_test})"
   ]
  },
  {
   "cell_type": "markdown",
   "id": "51bb567f",
   "metadata": {
    "papermill": {
     "duration": 0.009699,
     "end_time": "2022-09-18T11:10:16.162586",
     "exception": false,
     "start_time": "2022-09-18T11:10:16.152887",
     "status": "completed"
    },
    "tags": []
   },
   "source": [
    "## Random Forest approach"
   ]
  },
  {
   "cell_type": "code",
   "execution_count": 15,
   "id": "72fbde90",
   "metadata": {
    "execution": {
     "iopub.execute_input": "2022-09-18T11:10:16.185080Z",
     "iopub.status.busy": "2022-09-18T11:10:16.183855Z",
     "iopub.status.idle": "2022-09-18T11:10:16.251244Z",
     "shell.execute_reply": "2022-09-18T11:10:16.250233Z"
    },
    "papermill": {
     "duration": 0.08122,
     "end_time": "2022-09-18T11:10:16.253770",
     "exception": false,
     "start_time": "2022-09-18T11:10:16.172550",
     "status": "completed"
    },
    "tags": []
   },
   "outputs": [],
   "source": [
    "from sklearn.ensemble import RandomForestRegressor"
   ]
  },
  {
   "cell_type": "code",
   "execution_count": 16,
   "id": "d864ded8",
   "metadata": {
    "execution": {
     "iopub.execute_input": "2022-09-18T11:10:16.275936Z",
     "iopub.status.busy": "2022-09-18T11:10:16.275439Z",
     "iopub.status.idle": "2022-09-18T11:10:29.471090Z",
     "shell.execute_reply": "2022-09-18T11:10:29.469727Z"
    },
    "papermill": {
     "duration": 13.20974,
     "end_time": "2022-09-18T11:10:29.473679",
     "exception": false,
     "start_time": "2022-09-18T11:10:16.263939",
     "status": "completed"
    },
    "tags": []
   },
   "outputs": [
    {
     "data": {
      "text/plain": [
       "[<matplotlib.lines.Line2D at 0x7f728677a410>]"
      ]
     },
     "execution_count": 16,
     "metadata": {},
     "output_type": "execute_result"
    },
    {
     "data": {
      "image/png": "[encoded data removed]",
      "text/plain": [
       "<Figure size 432x288 with 1 Axes>"
      ]
     },
     "metadata": {
      "needs_background": "light"
     },
     "output_type": "display_data"
    }
   ],
   "source": [
    "modelRF = RandomForestRegressor(random_state = 1)\n",
    "estimators = np.arange(10, 200, 10)\n",
    "scores = []\n",
    "for n in estimators:\n",
    "    modelRF.set_params(n_estimators=n)\n",
    "    modelRF.fit(x_train, y_train)\n",
    "    scores.append(modelRF.score(x_test, y_test))\n",
    "plt.title(\"number of estimators\")\n",
    "plt.xlabel(\"estimator-->count\")\n",
    "plt.ylabel(\"score\")\n",
    "plt.plot(estimators, scores)"
   ]
  },
  {
   "cell_type": "code",
   "execution_count": 17,
   "id": "df2eac33",
   "metadata": {
    "execution": {
     "iopub.execute_input": "2022-09-18T11:10:29.497401Z",
     "iopub.status.busy": "2022-09-18T11:10:29.496666Z",
     "iopub.status.idle": "2022-09-18T11:10:29.566627Z",
     "shell.execute_reply": "2022-09-18T11:10:29.565320Z"
    },
    "papermill": {
     "duration": 0.084628,
     "end_time": "2022-09-18T11:10:29.569151",
     "exception": false,
     "start_time": "2022-09-18T11:10:29.484523",
     "status": "completed"
    },
    "tags": []
   },
   "outputs": [
    {
     "data": {
      "text/html": [
       "<div>\n",
       "<style scoped>\n",
       "    .dataframe tbody tr th:only-of-type {\n",
       "        vertical-align: middle;\n",
       "    }\n",
       "\n",
       "    .dataframe tbody tr th {\n",
       "        vertical-align: top;\n",
       "    }\n",
       "\n",
       "    .dataframe thead th {\n",
       "        text-align: right;\n",
       "    }\n",
       "</style>\n",
       "<table border=\"1\" class=\"dataframe\">\n",
       "  <thead>\n",
       "    <tr style=\"text-align: right;\">\n",
       "      <th></th>\n",
       "      <th>Prediction of rent</th>\n",
       "      <th>Actual Rent</th>\n",
       "    </tr>\n",
       "  </thead>\n",
       "  <tbody>\n",
       "    <tr>\n",
       "      <th>0</th>\n",
       "      <td>9415.0</td>\n",
       "      <td>10500</td>\n",
       "    </tr>\n",
       "    <tr>\n",
       "      <th>1</th>\n",
       "      <td>229368.0</td>\n",
       "      <td>80000</td>\n",
       "    </tr>\n",
       "    <tr>\n",
       "      <th>2</th>\n",
       "      <td>125756.0</td>\n",
       "      <td>120000</td>\n",
       "    </tr>\n",
       "    <tr>\n",
       "      <th>3</th>\n",
       "      <td>24511.0</td>\n",
       "      <td>17000</td>\n",
       "    </tr>\n",
       "    <tr>\n",
       "      <th>4</th>\n",
       "      <td>28175.0</td>\n",
       "      <td>45000</td>\n",
       "    </tr>\n",
       "    <tr>\n",
       "      <th>...</th>\n",
       "      <td>...</td>\n",
       "      <td>...</td>\n",
       "    </tr>\n",
       "    <tr>\n",
       "      <th>707</th>\n",
       "      <td>69482.0</td>\n",
       "      <td>65000</td>\n",
       "    </tr>\n",
       "    <tr>\n",
       "      <th>708</th>\n",
       "      <td>13335.0</td>\n",
       "      <td>11000</td>\n",
       "    </tr>\n",
       "    <tr>\n",
       "      <th>709</th>\n",
       "      <td>11976.0</td>\n",
       "      <td>11000</td>\n",
       "    </tr>\n",
       "    <tr>\n",
       "      <th>710</th>\n",
       "      <td>6904.0</td>\n",
       "      <td>8000</td>\n",
       "    </tr>\n",
       "    <tr>\n",
       "      <th>711</th>\n",
       "      <td>23144.0</td>\n",
       "      <td>21000</td>\n",
       "    </tr>\n",
       "  </tbody>\n",
       "</table>\n",
       "<p>712 rows × 2 columns</p>\n",
       "</div>"
      ],
      "text/plain": [
       "     Prediction of rent  Actual Rent\n",
       "0                9415.0        10500\n",
       "1              229368.0        80000\n",
       "2              125756.0       120000\n",
       "3               24511.0        17000\n",
       "4               28175.0        45000\n",
       "..                  ...          ...\n",
       "707             69482.0        65000\n",
       "708             13335.0        11000\n",
       "709             11976.0        11000\n",
       "710              6904.0         8000\n",
       "711             23144.0        21000\n",
       "\n",
       "[712 rows x 2 columns]"
      ]
     },
     "execution_count": 17,
     "metadata": {},
     "output_type": "execute_result"
    }
   ],
   "source": [
    "y_pred = modelRF.predict(x_test)\n",
    "pd.DataFrame(data={'Prediction of rent': y_pred.round(), 'Actual Rent': y_test})"
   ]
  },
  {
   "cell_type": "markdown",
   "id": "6c195ce4",
   "metadata": {
    "papermill": {
     "duration": 0.0103,
     "end_time": "2022-09-18T11:10:29.590352",
     "exception": false,
     "start_time": "2022-09-18T11:10:29.580052",
     "status": "completed"
    },
    "tags": []
   },
   "source": [
    "## Linear Regression "
   ]
  },
  {
   "cell_type": "code",
   "execution_count": 18,
   "id": "69ebe64d",
   "metadata": {
    "execution": {
     "iopub.execute_input": "2022-09-18T11:10:29.613531Z",
     "iopub.status.busy": "2022-09-18T11:10:29.612768Z",
     "iopub.status.idle": "2022-09-18T11:10:29.647016Z",
     "shell.execute_reply": "2022-09-18T11:10:29.645672Z"
    },
    "papermill": {
     "duration": 0.048876,
     "end_time": "2022-09-18T11:10:29.649741",
     "exception": false,
     "start_time": "2022-09-18T11:10:29.600865",
     "status": "completed"
    },
    "tags": []
   },
   "outputs": [
    {
     "data": {
      "text/plain": [
       "0.46211741633799364"
      ]
     },
     "execution_count": 18,
     "metadata": {},
     "output_type": "execute_result"
    }
   ],
   "source": [
    "from sklearn.linear_model import LinearRegression\n",
    "modelLR = LinearRegression()\n",
    "modelLR.fit(x_train, y_train)\n",
    "y_pred = modelLR.predict(x_test)\n",
    "modelLR.score(x_test, y_test)"
   ]
  },
  {
   "cell_type": "markdown",
   "id": "558afaa7",
   "metadata": {
    "papermill": {
     "duration": 0.010288,
     "end_time": "2022-09-18T11:10:29.670826",
     "exception": false,
     "start_time": "2022-09-18T11:10:29.660538",
     "status": "completed"
    },
    "tags": []
   },
   "source": [
    "## SVM"
   ]
  },
  {
   "cell_type": "code",
   "execution_count": 19,
   "id": "58098cd4",
   "metadata": {
    "execution": {
     "iopub.execute_input": "2022-09-18T11:10:29.694275Z",
     "iopub.status.busy": "2022-09-18T11:10:29.693503Z",
     "iopub.status.idle": "2022-09-18T11:10:29.699418Z",
     "shell.execute_reply": "2022-09-18T11:10:29.698705Z"
    },
    "papermill": {
     "duration": 0.02025,
     "end_time": "2022-09-18T11:10:29.701619",
     "exception": false,
     "start_time": "2022-09-18T11:10:29.681369",
     "status": "completed"
    },
    "tags": []
   },
   "outputs": [],
   "source": [
    "y = Data.drop(['BHK','Size','Area Type','City','Furnishing Status','Bathroom','Point of Contact'], axis=1)"
   ]
  },
  {
   "cell_type": "code",
   "execution_count": 20,
   "id": "45cf2b06",
   "metadata": {
    "execution": {
     "iopub.execute_input": "2022-09-18T11:10:29.725944Z",
     "iopub.status.busy": "2022-09-18T11:10:29.725184Z",
     "iopub.status.idle": "2022-09-18T11:10:29.739589Z",
     "shell.execute_reply": "2022-09-18T11:10:29.738669Z"
    },
    "papermill": {
     "duration": 0.029401,
     "end_time": "2022-09-18T11:10:29.742144",
     "exception": false,
     "start_time": "2022-09-18T11:10:29.712743",
     "status": "completed"
    },
    "tags": []
   },
   "outputs": [],
   "source": [
    "from sklearn.svm import SVR\n",
    "from sklearn.preprocessing import StandardScaler\n",
    "sc_X = StandardScaler()\n",
    "sc_Y = StandardScaler()\n",
    "x = sc_X.fit_transform(x)\n",
    "y = sc_Y.fit_transform(y)\n",
    "x_train, x_test, y_train, y_test = train_test_split(x, y, test_size = 0.15, random_state = 0)"
   ]
  },
  {
   "cell_type": "markdown",
   "id": "c2526c84",
   "metadata": {
    "papermill": {
     "duration": 0.010475,
     "end_time": "2022-09-18T11:10:29.763579",
     "exception": false,
     "start_time": "2022-09-18T11:10:29.753104",
     "status": "completed"
    },
    "tags": []
   },
   "source": [
    "Different keras\n",
    "* sigmoid(not for this data classification )\n",
    "* poly(acc->57.22%)\n",
    "* rbf(acc->56.47%)\n",
    "* linear(acc->36.108%)\n"
   ]
  },
  {
   "cell_type": "code",
   "execution_count": 21,
   "id": "683b914c",
   "metadata": {
    "execution": {
     "iopub.execute_input": "2022-09-18T11:10:29.787670Z",
     "iopub.status.busy": "2022-09-18T11:10:29.786875Z",
     "iopub.status.idle": "2022-09-18T11:10:31.621105Z",
     "shell.execute_reply": "2022-09-18T11:10:31.619475Z"
    },
    "papermill": {
     "duration": 1.849022,
     "end_time": "2022-09-18T11:10:31.623512",
     "exception": false,
     "start_time": "2022-09-18T11:10:29.774490",
     "status": "completed"
    },
    "tags": []
   },
   "outputs": [
    {
     "data": {
      "text/plain": [
       "SVR(kernel='linear')"
      ]
     },
     "execution_count": 21,
     "metadata": {},
     "output_type": "execute_result"
    }
   ],
   "source": [
    "from sklearn.svm import SVR\n",
    "modelSVMrbf = SVR(kernel = 'linear')\n",
    "modelSVMrbf.fit(x_train, y_train.ravel())"
   ]
  },
  {
   "cell_type": "code",
   "execution_count": 22,
   "id": "225cb922",
   "metadata": {
    "execution": {
     "iopub.execute_input": "2022-09-18T11:10:31.648773Z",
     "iopub.status.busy": "2022-09-18T11:10:31.647494Z",
     "iopub.status.idle": "2022-09-18T11:10:31.694277Z",
     "shell.execute_reply": "2022-09-18T11:10:31.693058Z"
    },
    "papermill": {
     "duration": 0.062569,
     "end_time": "2022-09-18T11:10:31.697370",
     "exception": false,
     "start_time": "2022-09-18T11:10:31.634801",
     "status": "completed"
    },
    "tags": []
   },
   "outputs": [
    {
     "data": {
      "text/plain": [
       "0.3610803530779082"
      ]
     },
     "execution_count": 22,
     "metadata": {},
     "output_type": "execute_result"
    }
   ],
   "source": [
    "modelSVMrbf.score(x_test, y_test)"
   ]
  }
 ],
 "metadata": {
  "kernelspec": {
   "display_name": "Python 3",
   "language": "python",
   "name": "python3"
  },
  "language_info": {
   "codemirror_mode": {
    "name": "ipython",
    "version": 3
   },
   "file_extension": ".py",
   "mimetype": "text/x-python",
   "name": "python",
   "nbconvert_exporter": "python",
   "pygments_lexer": "ipython3",
   "version": "3.7.12"
  },
  "papermill": {
   "default_parameters": {},
   "duration": 28.383495,
   "end_time": "2022-09-18T11:10:32.534943",
   "environment_variables": {},
   "exception": null,
   "input_path": "__notebook__.ipynb",
   "output_path": "__notebook__.ipynb",
   "parameters": {},
   "start_time": "2022-09-18T11:10:04.151448",
   "version": "2.3.4"
  }
 },
 "nbformat": 4,
 "nbformat_minor": 5
}
